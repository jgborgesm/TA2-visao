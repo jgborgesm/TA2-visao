{
 "cells": [
   {
   "attachments": {},
   "cell_type": "markdown",
   "metadata": {},
   "source": [
    "## Calibração da Câmera usando OpenCV\n",
    "- **Nome**: **Matheus Pacheco dos Santos**, **GRR**: **20192786**\n",
    "- **Nome**: **João Gabriel Borges de Macedo**, **GRR**: **20190429**\n",
    "\n",
    "### Introdução - Calibração da Câmera\n",
    "Este notebook trata-se um exercício de Calibração da Câmera usando OpenCV. Tal exercício é um atividade de estudo de Visão Computacional.\n",
    "\n",
    "A calibração da câmera é o processo de ajustar os parâmetros da câmera para que a imagem capturada corresponda com precisão à cena real. Esses parâmetros incluem a distância focal da lente, a posição e orientação da câmera em relação à cena e possíveis distorções ópticas.\n",
    "\n",
    "Neste notebook introduzimos um pouco da Calibração da Câmera usando o **OpenCV** em python. Para tal calibração usamos 14 imagens de um tabuleiro de xadrez."
   ]
  },
  {
   "attachments": {},
   "cell_type": "markdown",
   "metadata": {},
   "source": [
    "### Configuração Inicial\n",
    "Usamos a função `cv.findChessboardCorners()` para encontrar os cantos. Definimos como padrão a grade 7x6\n",
    "\n",
    "Depois de encontrar os cantos, podemos aumentar sua precisão usando `cv.cornerSubPix()`. Também podemos desenhar o padrão usando `cv.drawChessboardCorners()`. Todas essas etapas estão incluídas no código abaixo:"
   ]
  },
  {
   "cell_type": "code",
   "execution_count": null,
   "metadata": {},
   "outputs": [],
   "source": [
    "import numpy as np\n",
    "import cv2 as cv\n",
    "import glob\n",
    "import matplotlib.pyplot as plt\n",
    "\n",
    "# termination criteria\n",
    "criteria = (cv.TERM_CRITERIA_EPS + cv.TERM_CRITERIA_MAX_ITER, 30, 0.001)\n",
    "\n",
    "# prepara os pontos do objeto, como (0,0,0), (1,0,0), (2,0,0) ....,(6,5,0)\n",
    "objp = np.zeros((6*7,3), np.float32)\n",
    "objp[:,:2] = np.mgrid[0:7,0:6].T.reshape(-1,2)\n",
    "\n",
    "# arrays para armazenar pontos de objeto e pontos de imagem de todas as imagens\n",
    "objpoints = [] # pontos 3d no espaço do mundo real\n",
    "imgpoints = [] # pontos 2d no plano da imagem\n",
    "imgs = glob.glob('./img/*.jpg')\n",
    "for fname in imgs:\n",
    "    img = cv.imread(fname)\n",
    "    gray = cv.cvtColor(img, cv.COLOR_BGR2GRAY)\n",
    "\n",
    "    # encontra os cantos do tabuleiro de xadrez (ret indica se o padrão foi encontrado)\n",
    "    ret, corners = cv.findChessboardCorners(gray, (7,6), None)\n",
    "\n",
    "    # Se encontrado, adicione pontos de objeto, pontos de imagem (depois de refiná-los)\n",
    "    if ret == True:\n",
    "        objpoints.append(objp)\n",
    "        corners2 = cv.cornerSubPix(gray,corners, (11,11), (-1,-1), criteria)\n",
    "        imgpoints.append(corners2)\n",
    "        \n",
    "        # Exibe os cantos\n",
    "        cv.drawChessboardCorners(img, (7,6), corners2, ret)\n",
    "        plt.imshow(img)\n",
    "        plt.show()"
   ]
  },
  {
   "attachments": {},
   "cell_type": "markdown",
   "metadata": {},
   "source": [
    "### Calibração\n",
    "Agora usamos a função `cv.calibrateCamera()` que retorna:\n",
    "- **Matriz da câmera**; \n",
    "- **Coeficientes de distorção**; \n",
    "- **Vetores de rotação**;\n",
    "- **Vetores de translação**."
   ]
  },
  {
   "cell_type": "code",
   "execution_count": null,
   "metadata": {},
   "outputs": [],
   "source": [
    "ret, mtx, dist, rvecs, tvecs = cv.calibrateCamera(objpoints, imgpoints, gray.shape[::-1], None, None)\n",
    "print('Matriz da Câmera')\n",
    "print(mtx)\n",
    "print('------------------------------------------')\n",
    "print('Coeficientes de distorção')\n",
    "print(dist)\n",
    "print('------------------------------------------')\n",
    "print('Vetores de rotação')\n",
    "print(rvecs)\n",
    "print('------------------------------------------')\n",
    "print('Vetores de Translação')\n",
    "print(tvecs)"
   ]
  },
  {
   "attachments": {},
   "cell_type": "markdown",
   "metadata": {},
   "source": [
    "Uma possível saída é:\n",
    "\n",
    "- **Matriz da Câmera**\n",
    "$$\n",
    "Matriz = \n",
    "\\begin{pmatrix}\n",
    "841.04 & 0 & 299,82 \\\\\n",
    "0 & 795.35 & 311.11 \\\\\n",
    "0 & 0 & 1\n",
    "\\end{pmatrix}\n",
    "$$\n",
    "- **Coeficientes de Distorção**\n",
    "$$\n",
    "(k_1 \\quad k_2 \\quad p_1 \\quad p_2 \\quad k_3) = (-0.74 \\quad 1.23 \\quad -0.63 \\quad 0.25 \\quad -4.97)\n",
    "$$\n",
    "- **Vetores de Rotação**\n",
    "$$\n",
    "[[-0.68] \\quad [0.38] \\quad [-3.01]] \\\\\n",
    "$$\n",
    "- **Vetores de Translação**\n",
    "$$\n",
    "[[4.77] \\quad [-1.27] \\quad [22.63]] \\\\\n",
    "$$\n"
   ]
  },
  {
   "attachments": {},
   "cell_type": "markdown",
   "metadata": {},
   "source": [
    "### Sem distorção\n",
    "Agora, podemos pegar uma imagem e não distorcê-la. Primeiramente podemos refinar a matriz da câmera com base em um parâmetro de escala livre usando `cv.getOptimalNewCameraMatrix()`. Se o parâmetro de escala `alfa=0`, ele retorna uma imagem não distorcida com o mínimo de pixels indesejados. Portanto, pode até remover alguns pixels nos cantos da imagem. Se `alpha=1`, todos os pixels são retidos com algumas imagens pretas extras. Esta função também retorna um ROI de imagem que pode ser usado para cortar o resultado.\n",
    "\n",
    "Então, pegamos uma nova imagem:"
   ]
  },
  {
   "cell_type": "code",
   "execution_count": 8,
   "metadata": {},
   "outputs": [],
   "source": [
    "img = cv.imread('./img/left01.jpg')\n",
    "h,  w = img.shape[:2]\n",
    "newcameramtx, roi = cv.getOptimalNewCameraMatrix(mtx, dist, (w,h), 1, (w,h))"
   ]
  },
  {
   "attachments": {},
   "cell_type": "markdown",
   "metadata": {},
   "source": [
    "Agora basta calibramos a imagem com o método `cv.undistort()`"
   ]
  },
  {
   "cell_type": "code",
   "execution_count": null,
   "metadata": {},
   "outputs": [],
   "source": [
    "# undistort\n",
    "dst = cv.undistort(img, mtx, dist, None, newcameramtx)\n",
    "\n",
    "# corta imagem\n",
    "x, y, w, h = roi\n",
    "dst = dst[y:y+h, x:x+w]\n",
    "cv.imwrite('./img/left01-calibrated.jpg', dst)\n",
    "plt.imshow(dst)\n",
    "plt.show()"
   ]
  }
 ],
 "metadata": {
  "kernelspec": {
   "display_name": "Python 3",
   "language": "python",
   "name": "python3"
  },
  "language_info": {
   "codemirror_mode": {
    "name": "ipython",
    "version": 3
   },
   "file_extension": ".py",
   "mimetype": "text/x-python",
   "name": "python",
   "nbconvert_exporter": "python",
   "pygments_lexer": "ipython3",
   "version": "3.10.6"
  },
  "orig_nbformat": 4,
  "vscode": {
   "interpreter": {
    "hash": "e7370f93d1d0cde622a1f8e1c04877d8463912d04d973331ad4851f04de6915a"
   }
  }
 },
 "nbformat": 4,
 "nbformat_minor": 2
}
